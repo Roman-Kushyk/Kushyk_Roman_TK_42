{
 "cells": [
  {
   "cell_type": "code",
   "execution_count": 55,
   "metadata": {},
   "outputs": [
    {
     "data": {
      "text/plain": [
       "<module 'my_file' from '/workspaces/Kushyk_Roman_TK_42/lab_3/my_file.py'>"
      ]
     },
     "execution_count": 55,
     "metadata": {},
     "output_type": "execute_result"
    }
   ],
   "source": [
    "###### Перезавантаження нашого класу через імпорти\n",
    "import importlib\n",
    "import my_file\n",
    "\n",
    "importlib.reload(my_file)\n",
    "###### Кожного разу запускаємо цю комірку коли роимо зміни у класі"
   ]
  },
  {
   "cell_type": "code",
   "execution_count": 56,
   "metadata": {},
   "outputs": [
    {
     "name": "stdout",
     "output_type": "stream",
     "text": [
      "Доступаємось до телефона: Iphone, [13, 16], 12Gb\n",
      "Доступаємось до телефона: Samsung, Note 7, 20Gb\n",
      "Доступаємось до телефона: Meizu, M7, 16Gb\n",
      "Доступаємось до телефона: Huawey, Band, 11Gb\n"
     ]
    }
   ],
   "source": [
    "phone = [\"Iphone\", \"15\", \"12Gb\"]\n",
    "phone1 = [\"Samsung\", \"Note 7\", \"20Gb\"]\n",
    "\n",
    "# із збільшенням кількості речей про які нас потрібно зирати інформацію, буде складніше\n",
    "# з ними працювати (буде багато змінних phone)\n",
    "\n",
    "phones = {\n",
    "    \"Виробник\": [\"Iphone\", \"Samsung\", \"Meizu\", \"Huawey\"],\n",
    "    \"Модель\": [[13, 16], \"Note 7\", \"M7\", \"Band\"],\n",
    "    \"RAM\": [\"12Gb\", \"20Gb\", \"16Gb\", \"11Gb\"]\n",
    "}\n",
    "\n",
    "for i in range(len(phones[\"Виробник\"])):\n",
    "    print(f\"Доступаємось до телефона: {phones[\"Виробник\"][i]}, {phones[\"Модель\"][i]}, {phones[\"RAM\"][i]}\")"
   ]
  },
  {
   "cell_type": "code",
   "execution_count": 57,
   "metadata": {},
   "outputs": [
    {
     "name": "stdout",
     "output_type": "stream",
     "text": [
      "Доступаємось до телефона: Iphone, [13, 16], 12Gb\n",
      "{'vendor': 'Samsung', 'model': 'Note 7', 'ram': '20Gb', 'made_in': 'Китай'}\n",
      "{'vendor': 'Iphone', 'model': [13, 16], 'ram': '12Gb'}\n"
     ]
    }
   ],
   "source": [
    "from my_file import Phone\n",
    "\n",
    "i = Phone()\n",
    "# Тут ми задаємо так звані динамічні атрибути\n",
    "i.vendor = \"Iphone\"\n",
    "i.model = [13, 16]\n",
    "i.ram = \"12Gb\"\n",
    "\n",
    "s = Phone()\n",
    "# Тут ми задаємо так звані динамічні атрибути\n",
    "s.vendor = \"Samsung\"\n",
    "s.model = \"Note 7\"\n",
    "s.ram = \"20Gb\"\n",
    "s.made_in = \"Китай\"\n",
    "\n",
    "print(f\"Доступаємось до телефона: {i.vendor}, {i.model}, {i.ram}\")\n",
    "print(s.__dict__)\n",
    "print(i.__dict__)"
   ]
  },
  {
   "cell_type": "code",
   "execution_count": 13,
   "metadata": {},
   "outputs": [],
   "source": [
    "#print(f\"Доступаємось до телефона: {i.vendor}, {i.model}, {i.ram}, {i.made_id}\")"
   ]
  },
  {
   "cell_type": "code",
   "execution_count": 58,
   "metadata": {},
   "outputs": [
    {
     "name": "stdout",
     "output_type": "stream",
     "text": [
      "{'vendor': 'Iphone', 'model': [13, 16], 'ram': 12, 'made_in': None, '_reserved_memory': 1.2, '_PhoneWithAttributes__privat_message': 'Всі телефони зроблені в Китаї', '_video_calls': 0}\n",
      "{'vendor': 'Samsung', 'model': 'Note 7', 'ram': 20, 'made_in': 'Китай', '_reserved_memory': 2.0, '_PhoneWithAttributes__privat_message': 'Всі телефони зроблені в Китаї', '_video_calls': 0}\n",
      "Доступаємось до телефона: Iphone, [13, 16], 12 який зроблений у None\n",
      "Доступаємось до телефона: Samsung, Note 7, 20 який зроблений у Китай\n"
     ]
    }
   ],
   "source": [
    "from my_file import PhoneWithAttributes\n",
    "\n",
    "ip = PhoneWithAttributes(\"Iphone\", [13, 16], 12)\n",
    "\n",
    "print(ip.__dict__) # всі атрибути є присутніми і сумісні з іншими обєктами\n",
    "\n",
    "sm = PhoneWithAttributes(\"Samsung\", \"Note 7\", 20, \"Китай\")\n",
    "\n",
    "print(sm.__dict__)\n",
    "\n",
    "for o in [ip, sm]:\n",
    "    print(f\"Доступаємось до телефона: {o.vendor}, {o.model}, {o.ram} який зроблений у {o.made_in}\")"
   ]
  },
  {
   "cell_type": "code",
   "execution_count": 59,
   "metadata": {},
   "outputs": [
    {
     "name": "stdout",
     "output_type": "stream",
     "text": [
      "1.2 2.0\n",
      "5\n",
      "7\n"
     ]
    },
    {
     "data": {
      "text/plain": [
       "'Ось наш секрет: Всі телефони зроблені в Китаї'"
      ]
     },
     "execution_count": 59,
     "metadata": {},
     "output_type": "execute_result"
    }
   ],
   "source": [
    "print(ip._reserved_memory, sm._reserved_memory)\n",
    "\n",
    "ip._reserved_memory = 5\n",
    "\n",
    "print(ip._reserved_memory)\n",
    "\n",
    "print(ip.get_availabl_memory)\n",
    "#ip.get_availabl_memory = 6 # ми можемо тільки читати властивості але не змінювати їх\n",
    "\n",
    "ip.secret"
   ]
  },
  {
   "cell_type": "code",
   "execution_count": null,
   "metadata": {},
   "outputs": [
    {
     "name": "stdout",
     "output_type": "stream",
     "text": [
      "{'vendor': 'Iphone', 'model': 13, 'ram': 12, 'made_in': None, '_reserved_memory': 1.2, '_PhoneWithAttributes__privat_message': 'Всі телефони зроблені в Китаї', '_video_calls': 0}\n",
      "Набираємо номер телефона: 097 000001\n",
      "Програма опрацювання відеодзвінка, тепер доступно : 11.5 оперативки\n",
      "Набираємо номер телефона: 097 000002\n",
      "Програма опрацювання відеодзвінка, тепер доступно : 11.0 оперативки\n",
      "Активних відеовикликів: 2\n",
      "Активних відеовикликів: 1\n",
      "Активних відеовикликів: 0\n"
     ]
    },
    {
     "data": {
      "text/plain": [
       "0"
      ]
     },
     "execution_count": 60,
     "metadata": {},
     "output_type": "execute_result"
    }
   ],
   "source": [
    "from my_file import PhoneWithAttributes\n",
    "\n",
    "ip = PhoneWithAttributes(\"Iphone\", 13, 12)\n",
    "\n",
    "print(ip.__dict__)\n",
    "\n",
    "ip.call(\"097 000001\")\n",
    "ip.call(\"097 000002\")\n",
    "\n",
    "print(f\"Активних відеовикликів: {ip._video_calls}\")\n",
    "ip.stop_call()\n",
    "print(f\"Активних відеовикликів: {ip._video_calls}\")\n",
    "ip.stop_call()\n",
    "print(f\"Активних відеовикликів: {ip._video_calls}\")\n",
    "ip.stop_call()\n",
    "ip._video_calls"
   ]
  },
  {
   "cell_type": "code",
   "execution_count": null,
   "metadata": {},
   "outputs": [],
   "source": []
  }
 ],
 "metadata": {
  "kernelspec": {
   "display_name": "Python 3",
   "language": "python",
   "name": "python3"
  },
  "language_info": {
   "codemirror_mode": {
    "name": "ipython",
    "version": 3
   },
   "file_extension": ".py",
   "mimetype": "text/x-python",
   "name": "python",
   "nbconvert_exporter": "python",
   "pygments_lexer": "ipython3",
   "version": "3.12.1"
  }
 },
 "nbformat": 4,
 "nbformat_minor": 2
}
