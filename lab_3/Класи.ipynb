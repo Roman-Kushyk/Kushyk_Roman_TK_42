{
 "cells": [
  {
   "cell_type": "code",
   "execution_count": 1,
   "metadata": {},
   "outputs": [
    {
     "name": "stdout",
     "output_type": "stream",
     "text": [
      "4\n",
      "6\n"
     ]
    }
   ],
   "source": [
    "# Оголошення класу з класовими змінними\n",
    "class Car:\n",
    "    # Класова змінна\n",
    "    wheels = 4\n",
    "\n",
    "    def __init__(self, color, model):\n",
    "        # Екземплярні змінні\n",
    "        self.color = color\n",
    "        self.model = model\n",
    "\n",
    "# Створення екземпляра класу та використання класових змінних\n",
    "car1 = Car(\"Red\", \"Sedan\")\n",
    "print(car1.wheels)  # Виведе 4\n",
    "\n",
    "# Зміна значення класової змінної\n",
    "Car.wheels = 6\n",
    "print(car1.wheels)  # Виведе 6\n"
   ]
  },
  {
   "cell_type": "code",
   "execution_count": 2,
   "metadata": {},
   "outputs": [
    {
     "name": "stdout",
     "output_type": "stream",
     "text": [
      "200 додано до рахунку Roman.\n",
      "100 знято з рахунку Anna.\n",
      "100 USD у EUR: 90.9090909090909\n",
      "Новий курс обміну встановлено: 1.2\n"
     ]
    }
   ],
   "source": [
    "class Bank:\n",
    "    # Класова змінна для зберігання курсу обміну (наприклад, USD до EUR)\n",
    "    exchange_rate = 1.1\n",
    "\n",
    "    def __init__(self, name):\n",
    "        # Екземплярна змінна, яка зберігає назву банку\n",
    "        self.name = name\n",
    "        # Словник для зберігання балансу клієнтів\n",
    "        self.customers = {}\n",
    "\n",
    "    # Метод для додавання клієнта\n",
    "    def add_customer(self, customer_name, initial_balance=0):\n",
    "        self.customers[customer_name] = initial_balance\n",
    "\n",
    "    # Метод для внесення коштів\n",
    "    def deposit(self, customer_name, amount):\n",
    "        if customer_name in self.customers:\n",
    "            self.customers[customer_name] += amount\n",
    "            print(f\"{amount} додано до рахунку {customer_name}.\")\n",
    "        else:\n",
    "            print(\"Клієнта не знайдено!\")\n",
    "\n",
    "    # Метод для зняття коштів\n",
    "    def withdraw(self, customer_name, amount):\n",
    "        if customer_name in self.customers and self.customers[customer_name] >= amount:\n",
    "            self.customers[customer_name] -= amount\n",
    "            print(f\"{amount} знято з рахунку {customer_name}.\")\n",
    "        else:\n",
    "            print(\"Недостатньо коштів або клієнта не знайдено!\")\n",
    "\n",
    "    # Статичний метод для конвертації валюти\n",
    "    @staticmethod\n",
    "    def convert_currency(amount, to_currency=\"EUR\"):\n",
    "        if to_currency == \"EUR\":\n",
    "            return amount / Bank.exchange_rate\n",
    "        elif to_currency == \"USD\":\n",
    "            return amount * Bank.exchange_rate\n",
    "        else:\n",
    "            print(\"Невідома валюта!\")\n",
    "            return amount\n",
    "\n",
    "    # Класовий метод для зміни курсу обміну\n",
    "    @classmethod\n",
    "    def set_exchange_rate(cls, new_rate):\n",
    "        cls.exchange_rate = new_rate\n",
    "        print(f\"Новий курс обміну встановлено: {new_rate}\")\n",
    "\n",
    "# Приклад використання класу\n",
    "bank = Bank(\"MyBank\")\n",
    "\n",
    "# Додавання клієнтів\n",
    "bank.add_customer(\"Roman\", 1000)\n",
    "bank.add_customer(\"Anna\", 500)\n",
    "\n",
    "# Внесення та зняття коштів\n",
    "bank.deposit(\"Roman\", 200)\n",
    "bank.withdraw(\"Anna\", 100)\n",
    "\n",
    "# Конвертація валюти\n",
    "usd_amount = 100\n",
    "eur_amount = Bank.convert_currency(usd_amount, \"EUR\")\n",
    "print(f\"{usd_amount} USD у EUR: {eur_amount}\")\n",
    "\n",
    "# Зміна курсу обміну\n",
    "Bank.set_exchange_rate(1.2)\n"
   ]
  },
  {
   "cell_type": "code",
   "execution_count": 3,
   "metadata": {},
   "outputs": [
    {
     "name": "stdout",
     "output_type": "stream",
     "text": [
      "Книга 'Python Programming' додана до бібліотеки.\n",
      "Книга 'Data Science Handbook' додана до бібліотеки.\n",
      "Книги в бібліотеці:\n",
      "- Python Programming\n",
      "- Data Science Handbook\n",
      "Книга 'Python Programming' вилучена з бібліотеки.\n",
      "Книги в бібліотеці:\n",
      "- Data Science Handbook\n"
     ]
    }
   ],
   "source": [
    "class Library:\n",
    "    def __init__(self):\n",
    "        self.books = []  # Список для зберігання назв книг\n",
    "\n",
    "    # Метод для додавання книги\n",
    "    def add_book(self, book_title):\n",
    "        self.books.append(book_title)\n",
    "        print(f\"Книга '{book_title}' додана до бібліотеки.\")\n",
    "\n",
    "    # Метод для видалення книги\n",
    "    def remove_book(self, book_title):\n",
    "        if book_title in self.books:\n",
    "            self.books.remove(book_title)\n",
    "            print(f\"Книга '{book_title}' вилучена з бібліотеки.\")\n",
    "        else:\n",
    "            print(f\"Книга '{book_title}' не знайдена.\")\n",
    "\n",
    "    # Метод для перегляду всіх книг\n",
    "    def show_books(self):\n",
    "        if self.books:\n",
    "            print(\"Книги в бібліотеці:\")\n",
    "            for book in self.books:\n",
    "                print(f\"- {book}\")\n",
    "        else:\n",
    "            print(\"Бібліотека порожня.\")\n",
    "\n",
    "# Приклад використання\n",
    "library = Library()\n",
    "\n",
    "library.add_book(\"Python Programming\")\n",
    "library.add_book(\"Data Science Handbook\")\n",
    "library.show_books()\n",
    "\n",
    "library.remove_book(\"Python Programming\")\n",
    "library.show_books()\n"
   ]
  }
 ],
 "metadata": {
  "kernelspec": {
   "display_name": "Python 3",
   "language": "python",
   "name": "python3"
  },
  "language_info": {
   "codemirror_mode": {
    "name": "ipython",
    "version": 3
   },
   "file_extension": ".py",
   "mimetype": "text/x-python",
   "name": "python",
   "nbconvert_exporter": "python",
   "pygments_lexer": "ipython3",
   "version": "3.12.1"
  }
 },
 "nbformat": 4,
 "nbformat_minor": 2
}
