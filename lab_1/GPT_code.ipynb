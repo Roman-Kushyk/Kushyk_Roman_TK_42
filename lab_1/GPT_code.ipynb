{
 "cells": [
  {
   "cell_type": "code",
   "execution_count": null,
   "metadata": {},
   "outputs": [],
   "source": [
    "# Запитуємо ім'я користувача\n",
    "name = input(\"Введіть ваше ім'я: \")\n",
    "\n",
    "# Виводимо привітання\n",
    "print(f\"Привіт, {name}! Радий тебе бачити!\")\n"
   ]
  }
 ],
 "metadata": {
  "kernelspec": {
   "display_name": "Python 3.8.6 32-bit",
   "language": "python",
   "name": "python3"
  },
  "language_info": {
   "name": "python",
   "version": "3.8.6"
  },
  "orig_nbformat": 4,
  "vscode": {
   "interpreter": {
    "hash": "10dc22ba229f885a15fdb38153a22e7da339ac0ad2411ac1bde6e4d40ff38cec"
   }
  }
 },
 "nbformat": 4,
 "nbformat_minor": 2
}
