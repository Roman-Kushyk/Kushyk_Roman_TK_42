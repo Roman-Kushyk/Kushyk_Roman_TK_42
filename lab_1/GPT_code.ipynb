{
 "cells": [
  {
   "cell_type": "code",
   "execution_count": 1,
   "metadata": {},
   "outputs": [
    {
     "name": "stdout",
     "output_type": "stream",
     "text": [
      "Hello, World!\n",
      "Привіт, Roman!\n"
     ]
    }
   ],
   "source": [
    "# Програма привітання\n",
    "print(\"Hello, World!\")\n",
    "\n",
    "# Запитуємо ім'я користувача\n",
    "name = input(\"Введіть ваше ім'я: \")\n",
    "\n",
    "# Виводимо привітання з ім'ям користувача\n",
    "print(f\"Привіт, {name}!\")\n"
   ]
  },
  {
   "cell_type": "markdown",
   "metadata": {},
   "source": [
    "Дана програма запитує ім'я користувача, після компіляції виводить на екран \"Привіт,ім'я користувача\""
   ]
  }
 ],
 "metadata": {
  "kernelspec": {
   "display_name": "Python 3",
   "language": "python",
   "name": "python3"
  },
  "language_info": {
   "codemirror_mode": {
    "name": "ipython",
    "version": 3
   },
   "file_extension": ".py",
   "mimetype": "text/x-python",
   "name": "python",
   "nbconvert_exporter": "python",
   "pygments_lexer": "ipython3",
   "version": "3.12.1"
  }
 },
 "nbformat": 4,
 "nbformat_minor": 2
}
