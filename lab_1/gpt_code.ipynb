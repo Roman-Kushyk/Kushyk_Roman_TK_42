{
 "cells": [
  {
   "cell_type": "code",
   "execution_count": null,
   "metadata": {},
   "outputs": [],
   "source": [
    "name = input(\"Введіть ваше ім'я: \")\n",
    "print(\"Hello, World!\")\n",
    "print(f\"Привіт, {name}!\")\n"
   ]
  }
 ],
 "metadata": {
  "language_info": {
   "name": "python"
  }
 },
 "nbformat": 4,
 "nbformat_minor": 2
}
