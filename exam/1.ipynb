{
 "cells": [
  {
   "cell_type": "markdown",
   "metadata": {},
   "source": [
    "### Завдання:  \n",
    "Створити клас у мові програмування Python, який містить:  \n",
    "1. **Метод**, що повертає значення типу `int`.  \n",
    "**Додатково**:  \n",
    "- Назва класу та методу можуть бути обрані довільно.  \n",
    "- Метод повинен мати можливість приймати аргументи (за потреби).  \n",
    "- За бажанням, можна додати логіку, яка обчислює та повертає значення.  "
   ]
  },
  {
   "cell_type": "code",
   "execution_count": 4,
   "metadata": {},
   "outputs": [],
   "source": [
    "class NumberGenerator:\n",
    "    def get_number(self) -> int:\n",
    "        \"\"\"\n",
    "        Повертає ціле число.\n",
    "        \"\"\"\n",
    "        return 41  # Можна замінити 42 на будь-яке інше число або обчислення\n"
   ]
  },
  {
   "cell_type": "code",
   "execution_count": 9,
   "metadata": {},
   "outputs": [
    {
     "name": "stdout",
     "output_type": "stream",
     "text": [
      "Результат: 41\n"
     ]
    }
   ],
   "source": [
    "# Створюємо об'єкт класу\n",
    "generator = NumberGenerator()\n",
    "\n",
    "# Викликаємо метод і отримуємо результат\n",
    "result = generator.get_number()\n",
    "\n",
    "# Виводимо результат\n",
    "print(f\"Результат: {result}\")  # Виведе: Результат: 41\n"
   ]
  }
 ],
 "metadata": {
  "kernelspec": {
   "display_name": "Python 3",
   "language": "python",
   "name": "python3"
  },
  "language_info": {
   "codemirror_mode": {
    "name": "ipython",
    "version": 3
   },
   "file_extension": ".py",
   "mimetype": "text/x-python",
   "name": "python",
   "nbconvert_exporter": "python",
   "pygments_lexer": "ipython3",
   "version": "3.12.1"
  }
 },
 "nbformat": 4,
 "nbformat_minor": 2
}
